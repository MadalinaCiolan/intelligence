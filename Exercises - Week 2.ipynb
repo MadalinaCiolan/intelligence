{
 "cells": [
  {
   "cell_type": "code",
   "execution_count": 2,
   "id": "58070815",
   "metadata": {},
   "outputs": [],
   "source": [
    "import pandas as pd\n",
    "import numpy as np\n",
    "import matplotlib.pyplot as plt\n",
    "import seaborn as sns\n",
    "from sklearn.preprocessing import RobustScaler\n"
   ]
  },
  {
   "cell_type": "code",
   "execution_count": 3,
   "id": "e8df88b2",
   "metadata": {},
   "outputs": [],
   "source": [
    "df = pd.read_csv('weather_data_extended.csv')     #load dataset"
   ]
  },
  {
   "cell_type": "code",
   "execution_count": 4,
   "id": "3e2675c7",
   "metadata": {},
   "outputs": [
    {
     "data": {
      "text/html": [
       "<div>\n",
       "<style scoped>\n",
       "    .dataframe tbody tr th:only-of-type {\n",
       "        vertical-align: middle;\n",
       "    }\n",
       "\n",
       "    .dataframe tbody tr th {\n",
       "        vertical-align: top;\n",
       "    }\n",
       "\n",
       "    .dataframe thead th {\n",
       "        text-align: right;\n",
       "    }\n",
       "</style>\n",
       "<table border=\"1\" class=\"dataframe\">\n",
       "  <thead>\n",
       "    <tr style=\"text-align: right;\">\n",
       "      <th></th>\n",
       "      <th>Location</th>\n",
       "      <th>Temperature (°C)</th>\n",
       "      <th>Feels Like (°C)</th>\n",
       "      <th>Humidity (%)</th>\n",
       "      <th>Wind Speed (kph)</th>\n",
       "      <th>Cloud Cover (%)</th>\n",
       "      <th>Pressure (mb)</th>\n",
       "      <th>UV Index</th>\n",
       "      <th>Visibility (km)</th>\n",
       "    </tr>\n",
       "  </thead>\n",
       "  <tbody>\n",
       "    <tr>\n",
       "      <th>0</th>\n",
       "      <td>New York</td>\n",
       "      <td>8.3</td>\n",
       "      <td>4.5</td>\n",
       "      <td>40.0</td>\n",
       "      <td>29.9</td>\n",
       "      <td>75</td>\n",
       "      <td>1003.0</td>\n",
       "      <td>2</td>\n",
       "      <td>16</td>\n",
       "    </tr>\n",
       "    <tr>\n",
       "      <th>1</th>\n",
       "      <td>New York</td>\n",
       "      <td>8.3</td>\n",
       "      <td>4.5</td>\n",
       "      <td>40.0</td>\n",
       "      <td>29.9</td>\n",
       "      <td>75</td>\n",
       "      <td>1003.0</td>\n",
       "      <td>2</td>\n",
       "      <td>16</td>\n",
       "    </tr>\n",
       "    <tr>\n",
       "      <th>2</th>\n",
       "      <td>New York</td>\n",
       "      <td>8.3</td>\n",
       "      <td>4.5</td>\n",
       "      <td>40.0</td>\n",
       "      <td>29.9</td>\n",
       "      <td>75</td>\n",
       "      <td>1003.0</td>\n",
       "      <td>2</td>\n",
       "      <td>16</td>\n",
       "    </tr>\n",
       "    <tr>\n",
       "      <th>3</th>\n",
       "      <td>New York</td>\n",
       "      <td>8.3</td>\n",
       "      <td>4.5</td>\n",
       "      <td>40.0</td>\n",
       "      <td>29.9</td>\n",
       "      <td>75</td>\n",
       "      <td>1003.0</td>\n",
       "      <td>2</td>\n",
       "      <td>16</td>\n",
       "    </tr>\n",
       "    <tr>\n",
       "      <th>4</th>\n",
       "      <td>New York</td>\n",
       "      <td>8.3</td>\n",
       "      <td>4.5</td>\n",
       "      <td>40.0</td>\n",
       "      <td>29.9</td>\n",
       "      <td>75</td>\n",
       "      <td>1003.0</td>\n",
       "      <td>2</td>\n",
       "      <td>16</td>\n",
       "    </tr>\n",
       "  </tbody>\n",
       "</table>\n",
       "</div>"
      ],
      "text/plain": [
       "   Location  Temperature (°C)  Feels Like (°C)  Humidity (%)  \\\n",
       "0  New York               8.3              4.5          40.0   \n",
       "1  New York               8.3              4.5          40.0   \n",
       "2  New York               8.3              4.5          40.0   \n",
       "3  New York               8.3              4.5          40.0   \n",
       "4  New York               8.3              4.5          40.0   \n",
       "\n",
       "   Wind Speed (kph)  Cloud Cover (%)  Pressure (mb)  UV Index  Visibility (km)  \n",
       "0              29.9               75         1003.0         2               16  \n",
       "1              29.9               75         1003.0         2               16  \n",
       "2              29.9               75         1003.0         2               16  \n",
       "3              29.9               75         1003.0         2               16  \n",
       "4              29.9               75         1003.0         2               16  "
      ]
     },
     "execution_count": 4,
     "metadata": {},
     "output_type": "execute_result"
    }
   ],
   "source": [
    "df.head()    #view first lines of the data"
   ]
  },
  {
   "cell_type": "code",
   "execution_count": 5,
   "id": "a6c1522d",
   "metadata": {},
   "outputs": [
    {
     "data": {
      "text/html": [
       "<div>\n",
       "<style scoped>\n",
       "    .dataframe tbody tr th:only-of-type {\n",
       "        vertical-align: middle;\n",
       "    }\n",
       "\n",
       "    .dataframe tbody tr th {\n",
       "        vertical-align: top;\n",
       "    }\n",
       "\n",
       "    .dataframe thead th {\n",
       "        text-align: right;\n",
       "    }\n",
       "</style>\n",
       "<table border=\"1\" class=\"dataframe\">\n",
       "  <thead>\n",
       "    <tr style=\"text-align: right;\">\n",
       "      <th></th>\n",
       "      <th>Temperature (°C)</th>\n",
       "      <th>Feels Like (°C)</th>\n",
       "      <th>Humidity (%)</th>\n",
       "      <th>Wind Speed (kph)</th>\n",
       "      <th>Cloud Cover (%)</th>\n",
       "      <th>Pressure (mb)</th>\n",
       "      <th>UV Index</th>\n",
       "      <th>Visibility (km)</th>\n",
       "    </tr>\n",
       "  </thead>\n",
       "  <tbody>\n",
       "    <tr>\n",
       "      <th>count</th>\n",
       "      <td>800.00000</td>\n",
       "      <td>800.000000</td>\n",
       "      <td>798.000000</td>\n",
       "      <td>798.000000</td>\n",
       "      <td>800.000000</td>\n",
       "      <td>798.000000</td>\n",
       "      <td>800.000000</td>\n",
       "      <td>800.000000</td>\n",
       "    </tr>\n",
       "    <tr>\n",
       "      <th>mean</th>\n",
       "      <td>16.53750</td>\n",
       "      <td>16.312500</td>\n",
       "      <td>73.379699</td>\n",
       "      <td>16.165664</td>\n",
       "      <td>43.750000</td>\n",
       "      <td>1013.017544</td>\n",
       "      <td>1.750000</td>\n",
       "      <td>10.750000</td>\n",
       "    </tr>\n",
       "    <tr>\n",
       "      <th>std</th>\n",
       "      <td>5.58223</td>\n",
       "      <td>7.397601</td>\n",
       "      <td>16.566658</td>\n",
       "      <td>10.333199</td>\n",
       "      <td>34.820297</td>\n",
       "      <td>7.615259</td>\n",
       "      <td>1.090406</td>\n",
       "      <td>1.985555</td>\n",
       "    </tr>\n",
       "    <tr>\n",
       "      <th>min</th>\n",
       "      <td>8.30000</td>\n",
       "      <td>4.500000</td>\n",
       "      <td>40.000000</td>\n",
       "      <td>3.600000</td>\n",
       "      <td>0.000000</td>\n",
       "      <td>900.000000</td>\n",
       "      <td>1.000000</td>\n",
       "      <td>10.000000</td>\n",
       "    </tr>\n",
       "    <tr>\n",
       "      <th>25%</th>\n",
       "      <td>13.75000</td>\n",
       "      <td>12.375000</td>\n",
       "      <td>65.500000</td>\n",
       "      <td>6.275000</td>\n",
       "      <td>0.000000</td>\n",
       "      <td>1012.000000</td>\n",
       "      <td>1.000000</td>\n",
       "      <td>10.000000</td>\n",
       "    </tr>\n",
       "    <tr>\n",
       "      <th>50%</th>\n",
       "      <td>15.50000</td>\n",
       "      <td>15.900000</td>\n",
       "      <td>74.000000</td>\n",
       "      <td>9.000000</td>\n",
       "      <td>62.500000</td>\n",
       "      <td>1013.000000</td>\n",
       "      <td>1.000000</td>\n",
       "      <td>10.000000</td>\n",
       "    </tr>\n",
       "    <tr>\n",
       "      <th>75%</th>\n",
       "      <td>20.25000</td>\n",
       "      <td>20.625000</td>\n",
       "      <td>85.750000</td>\n",
       "      <td>24.100000</td>\n",
       "      <td>75.000000</td>\n",
       "      <td>1019.250000</td>\n",
       "      <td>2.250000</td>\n",
       "      <td>10.000000</td>\n",
       "    </tr>\n",
       "    <tr>\n",
       "      <th>max</th>\n",
       "      <td>25.00000</td>\n",
       "      <td>27.800000</td>\n",
       "      <td>100.000000</td>\n",
       "      <td>29.900000</td>\n",
       "      <td>75.000000</td>\n",
       "      <td>1024.000000</td>\n",
       "      <td>4.000000</td>\n",
       "      <td>16.000000</td>\n",
       "    </tr>\n",
       "  </tbody>\n",
       "</table>\n",
       "</div>"
      ],
      "text/plain": [
       "       Temperature (°C)  Feels Like (°C)  Humidity (%)  Wind Speed (kph)  \\\n",
       "count         800.00000       800.000000    798.000000        798.000000   \n",
       "mean           16.53750        16.312500     73.379699         16.165664   \n",
       "std             5.58223         7.397601     16.566658         10.333199   \n",
       "min             8.30000         4.500000     40.000000          3.600000   \n",
       "25%            13.75000        12.375000     65.500000          6.275000   \n",
       "50%            15.50000        15.900000     74.000000          9.000000   \n",
       "75%            20.25000        20.625000     85.750000         24.100000   \n",
       "max            25.00000        27.800000    100.000000         29.900000   \n",
       "\n",
       "       Cloud Cover (%)  Pressure (mb)    UV Index  Visibility (km)  \n",
       "count       800.000000     798.000000  800.000000       800.000000  \n",
       "mean         43.750000    1013.017544    1.750000        10.750000  \n",
       "std          34.820297       7.615259    1.090406         1.985555  \n",
       "min           0.000000     900.000000    1.000000        10.000000  \n",
       "25%           0.000000    1012.000000    1.000000        10.000000  \n",
       "50%          62.500000    1013.000000    1.000000        10.000000  \n",
       "75%          75.000000    1019.250000    2.250000        10.000000  \n",
       "max          75.000000    1024.000000    4.000000        16.000000  "
      ]
     },
     "execution_count": 5,
     "metadata": {},
     "output_type": "execute_result"
    }
   ],
   "source": [
    "df.describe()    #descriptive analysis"
   ]
  },
  {
   "cell_type": "code",
   "execution_count": 6,
   "id": "7d9ca74a",
   "metadata": {},
   "outputs": [
    {
     "name": "stdout",
     "output_type": "stream",
     "text": [
      "<class 'pandas.core.frame.DataFrame'>\n",
      "RangeIndex: 800 entries, 0 to 799\n",
      "Data columns (total 9 columns):\n",
      " #   Column            Non-Null Count  Dtype  \n",
      "---  ------            --------------  -----  \n",
      " 0   Location          800 non-null    object \n",
      " 1   Temperature (°C)  800 non-null    float64\n",
      " 2   Feels Like (°C)   800 non-null    float64\n",
      " 3   Humidity (%)      798 non-null    float64\n",
      " 4   Wind Speed (kph)  798 non-null    float64\n",
      " 5   Cloud Cover (%)   800 non-null    int64  \n",
      " 6   Pressure (mb)     798 non-null    float64\n",
      " 7   UV Index          800 non-null    int64  \n",
      " 8   Visibility (km)   800 non-null    int64  \n",
      "dtypes: float64(5), int64(3), object(1)\n",
      "memory usage: 56.4+ KB\n"
     ]
    }
   ],
   "source": [
    "df.info()   #check data types for each column"
   ]
  },
  {
   "cell_type": "code",
   "execution_count": 7,
   "id": "19985968",
   "metadata": {},
   "outputs": [
    {
     "data": {
      "text/plain": [
       "Location            0\n",
       "Temperature (°C)    0\n",
       "Feels Like (°C)     0\n",
       "Humidity (%)        2\n",
       "Wind Speed (kph)    2\n",
       "Cloud Cover (%)     0\n",
       "Pressure (mb)       2\n",
       "UV Index            0\n",
       "Visibility (km)     0\n",
       "dtype: int64"
      ]
     },
     "execution_count": 7,
     "metadata": {},
     "output_type": "execute_result"
    }
   ],
   "source": [
    "df.isnull().sum()    #check the null values"
   ]
  },
  {
   "cell_type": "markdown",
   "id": "d873f9dc",
   "metadata": {},
   "source": [
    "3 main techniques to deal with null values:\n",
    "- delete the entire row\n",
    "- imputation: - median(replace all null values with the median of that particular column) - when column has continuos values\n",
    "              - mode: (data in column is categorical) - most common value  "
   ]
  },
  {
   "cell_type": "code",
   "execution_count": 8,
   "id": "6fdab8ca",
   "metadata": {},
   "outputs": [
    {
     "data": {
      "text/plain": [
       "Location            0\n",
       "Temperature (°C)    0\n",
       "Feels Like (°C)     0\n",
       "Humidity (%)        0\n",
       "Wind Speed (kph)    0\n",
       "Cloud Cover (%)     0\n",
       "Pressure (mb)       0\n",
       "UV Index            0\n",
       "Visibility (km)     0\n",
       "dtype: int64"
      ]
     },
     "execution_count": 8,
     "metadata": {},
     "output_type": "execute_result"
    }
   ],
   "source": [
    "df = df.dropna() # drop non-values\n",
    "df.isnull().sum() "
   ]
  },
  {
   "cell_type": "code",
   "execution_count": 9,
   "id": "a8f178a6",
   "metadata": {},
   "outputs": [
    {
     "name": "stdout",
     "output_type": "stream",
     "text": [
      "<class 'pandas.core.frame.DataFrame'>\n",
      "Index: 794 entries, 0 to 799\n",
      "Data columns (total 9 columns):\n",
      " #   Column            Non-Null Count  Dtype  \n",
      "---  ------            --------------  -----  \n",
      " 0   Location          794 non-null    object \n",
      " 1   Temperature (°C)  794 non-null    float64\n",
      " 2   Feels Like (°C)   794 non-null    float64\n",
      " 3   Humidity (%)      794 non-null    float64\n",
      " 4   Wind Speed (kph)  794 non-null    float64\n",
      " 5   Cloud Cover (%)   794 non-null    int64  \n",
      " 6   Pressure (mb)     794 non-null    float64\n",
      " 7   UV Index          794 non-null    int64  \n",
      " 8   Visibility (km)   794 non-null    int64  \n",
      "dtypes: float64(5), int64(3), object(1)\n",
      "memory usage: 62.0+ KB\n"
     ]
    }
   ],
   "source": [
    "df.info() \n",
    "#we notice that Location column is an object(string) and not an integer"
   ]
  },
  {
   "cell_type": "code",
   "execution_count": 10,
   "id": "5c73d58a",
   "metadata": {},
   "outputs": [
    {
     "data": {
      "image/png": "[encoded data removed]",
      "text/plain": [
       "<Figure size 1000x500 with 2 Axes>"
      ]
     },
     "metadata": {},
     "output_type": "display_data"
    }
   ],
   "source": [
    "#correlation\n",
    "\n",
    "numericdf = df.drop('Location', axis = 1)               #drop Location column\n",
    "corr = numericdf.corr()\n",
    "plt.figure(figsize = (10,5))\n",
    "sns.heatmap(corr, annot = True, fmt = '.2f')\n",
    "plt.show()            "
   ]
  },
  {
   "cell_type": "code",
   "execution_count": 11,
   "id": "72ea23ac",
   "metadata": {},
   "outputs": [
    {
     "data": {
      "text/html": [
       "<div>\n",
       "<style scoped>\n",
       "    .dataframe tbody tr th:only-of-type {\n",
       "        vertical-align: middle;\n",
       "    }\n",
       "\n",
       "    .dataframe tbody tr th {\n",
       "        vertical-align: top;\n",
       "    }\n",
       "\n",
       "    .dataframe thead th {\n",
       "        text-align: right;\n",
       "    }\n",
       "</style>\n",
       "<table border=\"1\" class=\"dataframe\">\n",
       "  <thead>\n",
       "    <tr style=\"text-align: right;\">\n",
       "      <th></th>\n",
       "      <th>Location</th>\n",
       "      <th>Temperature (°C)</th>\n",
       "      <th>Feels Like (°C)</th>\n",
       "      <th>Humidity (%)</th>\n",
       "      <th>Wind Speed (kph)</th>\n",
       "      <th>Cloud Cover (%)</th>\n",
       "      <th>Pressure (mb)</th>\n",
       "      <th>UV Index</th>\n",
       "      <th>Visibility (km)</th>\n",
       "      <th>Location_index</th>\n",
       "    </tr>\n",
       "  </thead>\n",
       "  <tbody>\n",
       "    <tr>\n",
       "      <th>0</th>\n",
       "      <td>New York</td>\n",
       "      <td>8.3</td>\n",
       "      <td>4.5</td>\n",
       "      <td>40.0</td>\n",
       "      <td>29.9</td>\n",
       "      <td>75</td>\n",
       "      <td>1003.0</td>\n",
       "      <td>2</td>\n",
       "      <td>16</td>\n",
       "      <td>3</td>\n",
       "    </tr>\n",
       "    <tr>\n",
       "      <th>1</th>\n",
       "      <td>New York</td>\n",
       "      <td>8.3</td>\n",
       "      <td>4.5</td>\n",
       "      <td>40.0</td>\n",
       "      <td>29.9</td>\n",
       "      <td>75</td>\n",
       "      <td>1003.0</td>\n",
       "      <td>2</td>\n",
       "      <td>16</td>\n",
       "      <td>3</td>\n",
       "    </tr>\n",
       "    <tr>\n",
       "      <th>2</th>\n",
       "      <td>New York</td>\n",
       "      <td>8.3</td>\n",
       "      <td>4.5</td>\n",
       "      <td>40.0</td>\n",
       "      <td>29.9</td>\n",
       "      <td>75</td>\n",
       "      <td>1003.0</td>\n",
       "      <td>2</td>\n",
       "      <td>16</td>\n",
       "      <td>3</td>\n",
       "    </tr>\n",
       "    <tr>\n",
       "      <th>3</th>\n",
       "      <td>New York</td>\n",
       "      <td>8.3</td>\n",
       "      <td>4.5</td>\n",
       "      <td>40.0</td>\n",
       "      <td>29.9</td>\n",
       "      <td>75</td>\n",
       "      <td>1003.0</td>\n",
       "      <td>2</td>\n",
       "      <td>16</td>\n",
       "      <td>3</td>\n",
       "    </tr>\n",
       "    <tr>\n",
       "      <th>4</th>\n",
       "      <td>New York</td>\n",
       "      <td>8.3</td>\n",
       "      <td>4.5</td>\n",
       "      <td>40.0</td>\n",
       "      <td>29.9</td>\n",
       "      <td>75</td>\n",
       "      <td>1003.0</td>\n",
       "      <td>2</td>\n",
       "      <td>16</td>\n",
       "      <td>3</td>\n",
       "    </tr>\n",
       "    <tr>\n",
       "      <th>...</th>\n",
       "      <td>...</td>\n",
       "      <td>...</td>\n",
       "      <td>...</td>\n",
       "      <td>...</td>\n",
       "      <td>...</td>\n",
       "      <td>...</td>\n",
       "      <td>...</td>\n",
       "      <td>...</td>\n",
       "      <td>...</td>\n",
       "      <td>...</td>\n",
       "    </tr>\n",
       "    <tr>\n",
       "      <th>795</th>\n",
       "      <td>Hong Kong</td>\n",
       "      <td>25.0</td>\n",
       "      <td>27.8</td>\n",
       "      <td>79.0</td>\n",
       "      <td>29.9</td>\n",
       "      <td>50</td>\n",
       "      <td>1012.0</td>\n",
       "      <td>1</td>\n",
       "      <td>10</td>\n",
       "      <td>1</td>\n",
       "    </tr>\n",
       "    <tr>\n",
       "      <th>796</th>\n",
       "      <td>Hong Kong</td>\n",
       "      <td>25.0</td>\n",
       "      <td>27.8</td>\n",
       "      <td>79.0</td>\n",
       "      <td>29.9</td>\n",
       "      <td>50</td>\n",
       "      <td>1012.0</td>\n",
       "      <td>1</td>\n",
       "      <td>10</td>\n",
       "      <td>1</td>\n",
       "    </tr>\n",
       "    <tr>\n",
       "      <th>797</th>\n",
       "      <td>Hong Kong</td>\n",
       "      <td>25.0</td>\n",
       "      <td>27.8</td>\n",
       "      <td>79.0</td>\n",
       "      <td>29.9</td>\n",
       "      <td>50</td>\n",
       "      <td>1012.0</td>\n",
       "      <td>1</td>\n",
       "      <td>10</td>\n",
       "      <td>1</td>\n",
       "    </tr>\n",
       "    <tr>\n",
       "      <th>798</th>\n",
       "      <td>Hong Kong</td>\n",
       "      <td>25.0</td>\n",
       "      <td>27.8</td>\n",
       "      <td>79.0</td>\n",
       "      <td>29.9</td>\n",
       "      <td>50</td>\n",
       "      <td>1012.0</td>\n",
       "      <td>1</td>\n",
       "      <td>10</td>\n",
       "      <td>1</td>\n",
       "    </tr>\n",
       "    <tr>\n",
       "      <th>799</th>\n",
       "      <td>Hong Kong</td>\n",
       "      <td>25.0</td>\n",
       "      <td>27.8</td>\n",
       "      <td>79.0</td>\n",
       "      <td>29.9</td>\n",
       "      <td>50</td>\n",
       "      <td>1012.0</td>\n",
       "      <td>1</td>\n",
       "      <td>10</td>\n",
       "      <td>1</td>\n",
       "    </tr>\n",
       "  </tbody>\n",
       "</table>\n",
       "<p>794 rows × 10 columns</p>\n",
       "</div>"
      ],
      "text/plain": [
       "      Location  Temperature (°C)  Feels Like (°C)  Humidity (%)  \\\n",
       "0     New York               8.3              4.5          40.0   \n",
       "1     New York               8.3              4.5          40.0   \n",
       "2     New York               8.3              4.5          40.0   \n",
       "3     New York               8.3              4.5          40.0   \n",
       "4     New York               8.3              4.5          40.0   \n",
       "..         ...               ...              ...           ...   \n",
       "795  Hong Kong              25.0             27.8          79.0   \n",
       "796  Hong Kong              25.0             27.8          79.0   \n",
       "797  Hong Kong              25.0             27.8          79.0   \n",
       "798  Hong Kong              25.0             27.8          79.0   \n",
       "799  Hong Kong              25.0             27.8          79.0   \n",
       "\n",
       "     Wind Speed (kph)  Cloud Cover (%)  Pressure (mb)  UV Index  \\\n",
       "0                29.9               75         1003.0         2   \n",
       "1                29.9               75         1003.0         2   \n",
       "2                29.9               75         1003.0         2   \n",
       "3                29.9               75         1003.0         2   \n",
       "4                29.9               75         1003.0         2   \n",
       "..                ...              ...            ...       ...   \n",
       "795              29.9               50         1012.0         1   \n",
       "796              29.9               50         1012.0         1   \n",
       "797              29.9               50         1012.0         1   \n",
       "798              29.9               50         1012.0         1   \n",
       "799              29.9               50         1012.0         1   \n",
       "\n",
       "     Visibility (km)  Location_index  \n",
       "0                 16               3  \n",
       "1                 16               3  \n",
       "2                 16               3  \n",
       "3                 16               3  \n",
       "4                 16               3  \n",
       "..               ...             ...  \n",
       "795               10               1  \n",
       "796               10               1  \n",
       "797               10               1  \n",
       "798               10               1  \n",
       "799               10               1  \n",
       "\n",
       "[794 rows x 10 columns]"
      ]
     },
     "execution_count": 11,
     "metadata": {},
     "output_type": "execute_result"
    }
   ],
   "source": [
    "df['Location_index'] = df['Location'].astype('category').cat.codes\n",
    "df"
   ]
  },
  {
   "cell_type": "code",
   "execution_count": 12,
   "id": "d8b4140b",
   "metadata": {},
   "outputs": [
    {
     "data": {
      "image/png": "[encoded data removed]",
      "text/plain": [
       "<Figure size 1000x500 with 1 Axes>"
      ]
     },
     "metadata": {},
     "output_type": "display_data"
    }
   ],
   "source": [
    "#outliers using boxplot\n",
    "\n",
    "plt.figure(figsize = (10, 5))\n",
    "sns.boxplot(data = df['Pressure (mb)'])\n",
    "plt.title('Boxplot for Pressure')\n",
    "plt.show()"
   ]
  },
  {
   "cell_type": "code",
   "execution_count": 13,
   "id": "c0d4ca0a",
   "metadata": {},
   "outputs": [
    {
     "data": {
      "text/plain": [
       "array([[-0.85555556, -0.98290598, -1.71428571, ..., -1.37931034,\n",
       "         1.        ,  6.        ],\n",
       "       [-0.85555556, -0.98290598, -1.71428571, ..., -1.37931034,\n",
       "         1.        ,  6.        ],\n",
       "       [-0.85555556, -0.98290598, -1.71428571, ..., -1.37931034,\n",
       "         1.        ,  6.        ],\n",
       "       ...,\n",
       "       [ 1.        ,  1.00854701,  0.14285714, ..., -0.13793103,\n",
       "         0.        ,  0.        ],\n",
       "       [ 1.        ,  1.00854701,  0.14285714, ..., -0.13793103,\n",
       "         0.        ,  0.        ],\n",
       "       [ 1.        ,  1.00854701,  0.14285714, ..., -0.13793103,\n",
       "         0.        ,  0.        ]])"
      ]
     },
     "execution_count": 13,
     "metadata": {},
     "output_type": "execute_result"
    }
   ],
   "source": [
    "scaled_numericdf = RobustScaler().fit_transform(numericdf)\n",
    "scaled_numericdf"
   ]
  },
  {
   "cell_type": "markdown",
   "id": "9fe13742",
   "metadata": {},
   "source": [
    "So far we have done:\n",
    "- Loaded dataset\n",
    "- Descriptive analysis\n",
    "- Exploratory data analysis\n",
    "- Handled outliers\n",
    "- Scaled the data"
   ]
  },
  {
   "cell_type": "code",
   "execution_count": 14,
   "id": "2d97a0c6",
   "metadata": {},
   "outputs": [],
   "source": [
    "#create Linear regression model\n",
    "\n",
    "from sklearn.linear_model import LinearRegression\n",
    "model = LinearRegression()"
   ]
  },
  {
   "cell_type": "code",
   "execution_count": 15,
   "id": "2b26169e",
   "metadata": {},
   "outputs": [],
   "source": [
    "#create feature and label\n",
    "\n",
    "X = numericdf.drop('Temperature (°C)', axis = 1)             #feature\n",
    "Y = numericdf['Temperature (°C)']             #target variable"
   ]
  },
  {
   "cell_type": "code",
   "execution_count": 16,
   "id": "8381b120",
   "metadata": {},
   "outputs": [],
   "source": [
    "\n",
    "Xscaled = RobustScaler().fit_transform(X)"
   ]
  },
  {
   "cell_type": "code",
   "execution_count": 17,
   "id": "4e78d3e9",
   "metadata": {},
   "outputs": [],
   "source": [
    "#Train test split\n",
    "\n",
    "from sklearn.model_selection import train_test_split\n",
    "\n",
    "Xtrain, Xtest, Ytrain, Ytest = train_test_split(Xscaled, Y, test_size = 0.3, random_state = 10)\n"
   ]
  },
  {
   "cell_type": "code",
   "execution_count": 18,
   "id": "c22ad065",
   "metadata": {},
   "outputs": [],
   "source": [
    "#train our Linear regression model\n",
    "\n",
    "model = model.fit(Xtrain, Ytrain)"
   ]
  },
  {
   "cell_type": "code",
   "execution_count": 23,
   "id": "71f28104",
   "metadata": {},
   "outputs": [
    {
     "name": "stdout",
     "output_type": "stream",
     "text": [
      "R-squared Score: 1.00\n"
     ]
    }
   ],
   "source": [
    "#make predictions and evaluate our model\n",
    "\n",
    "ypred = model.predict(Xtest)\n",
    "\n",
    "from sklearn.metrics import r2_score, mean_squared_error\n",
    "\n",
    "#r2: higher is better\n",
    "r2 = r2_score(Ytest, ypred)\n",
    "print(f'R-squared Score: {r2:.2f}')"
   ]
  },
  {
   "cell_type": "code",
   "execution_count": 25,
   "id": "ede43260",
   "metadata": {},
   "outputs": [
    {
     "name": "stdout",
     "output_type": "stream",
     "text": [
      "Mean Squared Error: 0.06\n"
     ]
    }
   ],
   "source": [
    "#mse (mean square error): error in your model's fit (lower is better)\n",
    "\n",
    "mse = mean_squared_error(Ytest, ypred)\n",
    "print(f'Mean Squared Error: {mse:.2f}')"
   ]
  }
 ],
 "metadata": {
  "kernelspec": {
   "display_name": "mada-proj",
   "language": "python",
   "name": "python3"
  },
  "language_info": {
   "codemirror_mode": {
    "name": "ipython",
    "version": 3
   },
   "file_extension": ".py",
   "mimetype": "text/x-python",
   "name": "python",
   "nbconvert_exporter": "python",
   "pygments_lexer": "ipython3",
   "version": "3.10.16"
  }
 },
 "nbformat": 4,
 "nbformat_minor": 5
}
