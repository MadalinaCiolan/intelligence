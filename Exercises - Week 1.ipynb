{
 "cells": [
  {
   "cell_type": "code",
   "execution_count": 2,
   "id": "395bf300",
   "metadata": {},
   "outputs": [
    {
     "name": "stdout",
     "output_type": "stream",
     "text": [
      "Hello World\n",
      "Integer: 10, Type: <class 'int'>\n"
     ]
    }
   ],
   "source": [
    "print('Hello World')\n",
    "\n",
    "x = 10\n",
    "\n",
    "print(f\"Integer: {x}, Type: {type(x)}\")\n"
   ]
  },
  {
   "cell_type": "code",
   "execution_count": 3,
   "id": "705c9b64",
   "metadata": {},
   "outputs": [
    {
     "name": "stdout",
     "output_type": "stream",
     "text": [
      "Odd number\n"
     ]
    }
   ],
   "source": [
    "num = 15\n",
    "if num % 2 == 0:\n",
    "    print('Even number')\n",
    "else:\n",
    "    print('Odd number')    "
   ]
  },
  {
   "cell_type": "code",
   "execution_count": 5,
   "id": "cf6d1e2a",
   "metadata": {},
   "outputs": [
    {
     "name": "stdout",
     "output_type": "stream",
     "text": [
      "Grade: B\n"
     ]
    }
   ],
   "source": [
    "mark = 85\n",
    "if mark >= 90:\n",
    "    print('Grade A')\n",
    "elif mark >= 75:\n",
    "    print('Grade: B')\n",
    "elif mark >= 50:\n",
    "    print('Grade: C')\n",
    "else:\n",
    "    print('Grade: F')            "
   ]
  },
  {
   "cell_type": "code",
   "execution_count": 6,
   "id": "a97146f4",
   "metadata": {},
   "outputs": [
    {
     "name": "stdout",
     "output_type": "stream",
     "text": [
      "Adult\n"
     ]
    }
   ],
   "source": [
    "age = 20\n",
    "if age >= 18:\n",
    "    if age >= 60:\n",
    "        print('Senior Citizen')\n",
    "    else:\n",
    "        print('Adult')    \n",
    "else:\n",
    "    print('Minor')        \n"
   ]
  },
  {
   "cell_type": "code",
   "execution_count": 7,
   "id": "ca5132b9",
   "metadata": {},
   "outputs": [
    {
     "name": "stdout",
     "output_type": "stream",
     "text": [
      "Both conditions are true\n"
     ]
    }
   ],
   "source": [
    "a = 7\n",
    "b = 12\n",
    "if a > 5 and b > 10:\n",
    "    print('Both conditions are true')\n",
    "else:\n",
    "    print('One or both conditions are false')    "
   ]
  },
  {
   "cell_type": "code",
   "execution_count": 8,
   "id": "7e4d976f",
   "metadata": {},
   "outputs": [
    {
     "name": "stdout",
     "output_type": "stream",
     "text": [
      "Extreme weather\n"
     ]
    }
   ],
   "source": [
    "temp = 35\n",
    "if temp < 0 or temp > 30:\n",
    "    print('Extreme weather')\n",
    "else:\n",
    "    print('Normal weather')    "
   ]
  },
  {
   "cell_type": "code",
   "execution_count": 9,
   "id": "965d2c17",
   "metadata": {},
   "outputs": [
    {
     "name": "stdout",
     "output_type": "stream",
     "text": [
      "Positive\n"
     ]
    }
   ],
   "source": [
    "x = 8\n",
    "result = 'Positive' if x > 0 else 'Negative'\n",
    "print(result)"
   ]
  },
  {
   "cell_type": "code",
   "execution_count": 10,
   "id": "33e37867",
   "metadata": {},
   "outputs": [
    {
     "name": "stdout",
     "output_type": "stream",
     "text": [
      "It is a vowel\n"
     ]
    }
   ],
   "source": [
    "vowel = 'e'\n",
    "if vowel in 'aeiou':\n",
    "    print('It is a vowel')\n",
    "else:\n",
    "    print('It is a consonant')    "
   ]
  },
  {
   "cell_type": "code",
   "execution_count": null,
   "id": "3a603187",
   "metadata": {},
   "outputs": [],
   "source": []
  }
 ],
 "metadata": {
  "kernelspec": {
   "display_name": "jupyter",
   "language": "python",
   "name": "python3"
  },
  "language_info": {
   "codemirror_mode": {
    "name": "ipython",
    "version": 3
   },
   "file_extension": ".py",
   "mimetype": "text/x-python",
   "name": "python",
   "nbconvert_exporter": "python",
   "pygments_lexer": "ipython3",
   "version": "3.10.16"
  }
 },
 "nbformat": 4,
 "nbformat_minor": 5
}
